{
 "cells": [
  {
   "cell_type": "code",
   "execution_count": 89,
   "metadata": {},
   "outputs": [
    {
     "name": "stdout",
     "output_type": "stream",
     "text": [
      "1.20.1\n"
     ]
    }
   ],
   "source": [
    "import numpy as np\n",
    "print(np.__version__)"
   ]
  },
  {
   "cell_type": "code",
   "execution_count": 90,
   "metadata": {
    "pycharm": {
     "name": "#%%\n"
    }
   },
   "outputs": [
    {
     "name": "stdout",
     "output_type": "stream",
     "text": [
      "[0 1 2 3 4 5 6 7 8 9]\n"
     ]
    }
   ],
   "source": [
    "# Enter your code here\n",
    "a = np.arange(10)\n",
    "\n",
    "# Visualization\n",
    "print(a)"
   ]
  },
  {
   "cell_type": "code",
   "execution_count": 91,
   "metadata": {
    "pycharm": {
     "name": "#%%\n"
    }
   },
   "outputs": [
    {
     "data": {
      "text/plain": "array([[ True,  True,  True],\n       [ True,  True,  True],\n       [ True,  True,  True]])"
     },
     "execution_count": 91,
     "metadata": {},
     "output_type": "execute_result"
    }
   ],
   "source": [
    "arr = np.full((3, 3), True)\n",
    "arr"
   ]
  },
  {
   "cell_type": "code",
   "execution_count": 92,
   "metadata": {
    "pycharm": {
     "name": "#%%\n"
    }
   },
   "outputs": [
    {
     "name": "stdout",
     "output_type": "stream",
     "text": [
      "INPUT:\n",
      "[0 1 2 3 4 5 6 7 8 9]\n",
      "OUTPUT:\n",
      "[1 3 5 7 9]\n"
     ]
    }
   ],
   "source": [
    "# Extract all odd numbers from numpy.array.\n",
    "# Input\n",
    "arr = np.array([0, 1, 2, 3, 4, 5, 6, 7, 8, 9])\n",
    "\n",
    "# Enter your code here\n",
    "result = arr[arr%2==1]\n",
    "\n",
    "# Visualize\n",
    "print('INPUT:')\n",
    "print(arr)\n",
    "print('OUTPUT:')\n",
    "print(result)"
   ]
  },
  {
   "cell_type": "code",
   "execution_count": 93,
   "metadata": {},
   "outputs": [
    {
     "name": "stdout",
     "output_type": "stream",
     "text": [
      "INPUT:\n",
      "[0 1 2 3 4 5 6 7 8 9]\n",
      "OUTPUT:\n",
      "[ 0 -1  2 -1  4 -1  6 -1  8 -1]\n"
     ]
    }
   ],
   "source": [
    "# Replace all odd numbers in numpy.array with -1\n",
    "import numpy as np\n",
    "\n",
    "# Input\n",
    "arr = np.array([0, 1, 2, 3, 4, 5, 6, 7, 8, 9])\n",
    "# Visualize\n",
    "print('INPUT:')\n",
    "print(arr)\n",
    "\n",
    "# Enter your code here\n",
    "arr[arr%2==1] = -1\n",
    "# Visualize\n",
    "print('OUTPUT:')\n",
    "print(arr)"
   ]
  },
  {
   "cell_type": "code",
   "execution_count": 94,
   "metadata": {},
   "outputs": [
    {
     "name": "stdout",
     "output_type": "stream",
     "text": [
      "INPUT:\n",
      "[0 1 2 3 4 5 6 7 8 9]\n",
      "OUTPUT:\n",
      "[[0 1 2 3 4]\n",
      " [5 6 7 8 9]]\n"
     ]
    }
   ],
   "source": [
    "#  Convert a 1D array to a 2D array with 2 rows.\n",
    "import numpy as np\n",
    "\n",
    "# Input\n",
    "arr = np.arange(10)\n",
    "\n",
    "# Enter your code here\n",
    "result = arr.reshape(2,-1)\n",
    "\n",
    "# Visualize\n",
    "print('INPUT:')\n",
    "print(arr)\n",
    "print('OUTPUT:')\n",
    "print(result)"
   ]
  },
  {
   "cell_type": "code",
   "execution_count": 95,
   "metadata": {},
   "outputs": [
    {
     "name": "stdout",
     "output_type": "stream",
     "text": [
      "[ 1  2  3  4  5  6  7  8  9 10]\n",
      "RESULT:\n",
      "mean =  5.5 ; median =  5.5 ; deviation =  2.8722813232690143\n"
     ]
    }
   ],
   "source": [
    "# Find the mean, median, standard deviation of given 1D array.\n",
    "import numpy as np\n",
    "\n",
    "# Input\n",
    "arr = np.array([1,2,3,4,5,6,7,8,9,10])\n",
    "\n",
    "# Enter your code here\n",
    "mu = np.mean(arr)\n",
    "med = np.median(arr)\n",
    "sd = np.std(arr)\n",
    "\n",
    "# Output\n",
    "print(arr)\n",
    "print('RESULT:')\n",
    "print(\"mean = \", mu, \"; median = \", med, \"; deviation = \", sd)"
   ]
  },
  {
   "cell_type": "code",
   "execution_count": 96,
   "metadata": {},
   "outputs": [
    {
     "name": "stdout",
     "output_type": "stream",
     "text": [
      "INPUT:\n",
      "[ 1  2  3  4  5  6  7  8  9 10]\n",
      "OUTPUT:\n",
      "[1.45 9.55]\n"
     ]
    }
   ],
   "source": [
    "# Find the 5th and 95th percentile of given array.\n",
    "# Input\n",
    "arr = np.array([1,2,3,4,5,6,7,8,9,10])\n",
    "percentiles = [5, 95]\n",
    "\n",
    "# Enter your code here\n",
    "result = np.percentile(arr, q=percentiles)\n",
    "\n",
    "# Output\n",
    "print('INPUT:')\n",
    "print(arr)\n",
    "print('OUTPUT:')\n",
    "print(result.round(2))"
   ]
  },
  {
   "cell_type": "code",
   "execution_count": 97,
   "metadata": {},
   "outputs": [
    {
     "name": "stdout",
     "output_type": "stream",
     "text": [
      "INPUT:\n",
      "[3 4 2 1 1 1 2 3 1 3]\n",
      "MOST FREQUENT VALUE:\n",
      "1\n"
     ]
    }
   ],
   "source": [
    "# Find the most frequent value in the given array.\n",
    "arr = np.array([3, 4, 2, 1, 1, 1, 2, 3, 1, 3])\n",
    "\n",
    "# Enter your code here\n",
    "unique_values, indices_list = np.unique(arr, return_index=True)\n",
    "result = unique_values[np.argmax(indices_list)]\n",
    "\n",
    "# Output\n",
    "print('INPUT:')\n",
    "print(arr)\n",
    "print('MOST FREQUENT VALUE:')\n",
    "print(result)"
   ]
  },
  {
   "cell_type": "code",
   "execution_count": 98,
   "metadata": {},
   "outputs": [
    {
     "name": "stdout",
     "output_type": "stream",
     "text": [
      "arr:\n",
      "[0 1 2 3 4 5 6 7 8 9]\n",
      "out:\n",
      "[ 0 -1  2 -1  4 -1  6 -1  8 -1]\n"
     ]
    }
   ],
   "source": [
    "# Intermediate\n",
    "# 1 Replace all odd numbers in arr with -1 without changing arr\n",
    "arr = np.array([0, 1, 2, 3, 4, 5, 6, 7, 8, 9])\n",
    "\n",
    "# Enter your code here\n",
    "out = np.where(arr % 2 == 1, -1, arr)\n",
    "\n",
    "# Output\n",
    "print('arr:')\n",
    "print(arr)\n",
    "print('out:')\n",
    "print(out)"
   ]
  },
  {
   "cell_type": "code",
   "execution_count": 99,
   "metadata": {},
   "outputs": [
    {
     "name": "stdout",
     "output_type": "stream",
     "text": [
      "array a:\n",
      "[[0 1 2 3 4]\n",
      " [5 6 7 8 9]]\n",
      "array b:\n",
      "[[1 1 1 1 1]\n",
      " [1 1 1 1 1]]\n",
      "stacked:\n",
      "[[0 1 2 3 4]\n",
      " [5 6 7 8 9]\n",
      " [1 1 1 1 1]\n",
      " [1 1 1 1 1]]\n"
     ]
    }
   ],
   "source": [
    "# 2 Stack arrays a and b vertically\n",
    "# Input\n",
    "a = np.arange(10).reshape(2,-1)\n",
    "b = np.repeat(1, 10).reshape(2,-1)\n",
    "\n",
    "# Enter your code here\n",
    "out = np.vstack((a,b))\n",
    "# out = np.concatenate([a, b], axis=0)\n",
    "# out = np.r_[a, b]\n",
    "# Output\n",
    "print('array a:')\n",
    "print(a)\n",
    "print('array b:')\n",
    "print(b)\n",
    "print('stacked:')\n",
    "print(out)"
   ]
  },
  {
   "cell_type": "code",
   "execution_count": 100,
   "outputs": [
    {
     "name": "stdout",
     "output_type": "stream",
     "text": [
      "array a:\n",
      "[[0 1 2 3 4]\n",
      " [5 6 7 8 9]]\n",
      "array b:\n",
      "[[1 1 1 1 1]\n",
      " [1 1 1 1 1]]\n",
      "stacked:\n",
      "[[0 1 2 3 4 1 1 1 1 1]\n",
      " [5 6 7 8 9 1 1 1 1 1]]\n"
     ]
    }
   ],
   "source": [
    "# 3 Stack the arrays a and b horizontally.\n",
    "\n",
    "# Input\n",
    "a = np.arange(10).reshape(2,-1)\n",
    "b = np.repeat(1, 10).reshape(2,-1)\n",
    "\n",
    "# Enter your code here\n",
    "out = np.column_stack((a,b))\n",
    "\n",
    "# Output\n",
    "print('array a:')\n",
    "print(a)\n",
    "print('array b:')\n",
    "print(b)\n",
    "print('stacked:')\n",
    "print(out)"
   ],
   "metadata": {
    "collapsed": false,
    "pycharm": {
     "name": "#%%\n"
    }
   }
  },
  {
   "cell_type": "code",
   "execution_count": 101,
   "outputs": [
    {
     "name": "stdout",
     "output_type": "stream",
     "text": [
      "a:\n",
      "[1 2 3]\n",
      "out:\n",
      "[[1 1 1 2 2 2 3 3 3 1 2 3 1 2 3 1 2 3]]\n"
     ]
    }
   ],
   "source": [
    "# 4 Create the following pattern without hardcoding. Use only numpy functions and the given array.\n",
    "# Input\n",
    "a = np.array([1,2,3])\n",
    "\n",
    "# Enter your code here\n",
    "out = np.r_['r', np.repeat(a, 3), np.tile(a, 3)]\n",
    "\n",
    "# Output\n",
    "print('a:')\n",
    "print(a)\n",
    "print('out:')\n",
    "print(out)"
   ],
   "metadata": {
    "collapsed": false,
    "pycharm": {
     "name": "#%%\n"
    }
   }
  },
  {
   "cell_type": "code",
   "execution_count": 102,
   "outputs": [
    {
     "name": "stdout",
     "output_type": "stream",
     "text": [
      "a:\n",
      "[1 2 3 2 3 4 3 4 5 6]\n",
      "b:\n",
      "[ 7  2 10  2  7  4  9  4  9  8]\n",
      "out:\n",
      "[2 4]\n"
     ]
    }
   ],
   "source": [
    "# 5 Get the common items between a and b\n",
    "\n",
    "# Input\n",
    "a = np.array([1,2,3,2,3,4,3,4,5,6])\n",
    "b = np.array([7,2,10,2,7,4,9,4,9,8])\n",
    "\n",
    "# Enter your code here\n",
    "out = np.intersect1d(a,b)\n",
    "\n",
    "# Output\n",
    "print('a:')\n",
    "print(a)\n",
    "print('b:')\n",
    "print(b)\n",
    "print('out:')\n",
    "print(out)"
   ],
   "metadata": {
    "collapsed": false,
    "pycharm": {
     "name": "#%%\n"
    }
   }
  },
  {
   "cell_type": "code",
   "execution_count": 103,
   "outputs": [
    {
     "name": "stdout",
     "output_type": "stream",
     "text": [
      "a:\n",
      "[1 2 3 4 5]\n",
      "b:\n",
      "[5 6 7 8 9]\n",
      "out:\n",
      "[1 2 3 4]\n"
     ]
    }
   ],
   "source": [
    "# 6 From array a remove all items present in array b.\n",
    "\n",
    "# Input\n",
    "a = np.array([1,2,3,4,5])\n",
    "b = np.array([5,6,7,8,9])\n",
    "\n",
    "# Enter your code here\n",
    "out = np.setdiff1d(a,b)\n",
    "\n",
    "# Output\n",
    "print('a:')\n",
    "print(a)\n",
    "print('b:')\n",
    "print(b)\n",
    "print('out:')\n",
    "print(out)"
   ],
   "metadata": {
    "collapsed": false,
    "pycharm": {
     "name": "#%%\n"
    }
   }
  },
  {
   "cell_type": "code",
   "execution_count": 104,
   "outputs": [
    {
     "name": "stdout",
     "output_type": "stream",
     "text": [
      "a:\n",
      "[1 2 3 2 3 4 3 4 5 6]\n",
      "b:\n",
      "[ 7  2 10  2  7  4  9  4  9  8]\n",
      "out:\n",
      "[1 3 5 7]\n"
     ]
    }
   ],
   "source": [
    "# 7 Get the positions where elements of a and b match.\n",
    "\n",
    "# Input\n",
    "a = np.array([1,2,3,2,3,4,3,4,5,6])\n",
    "b = np.array([7,2,10,2,7,4,9,4,9,8])\n",
    "\n",
    "# Enter your code here\n",
    "out = np.where(a==b)[0]\n",
    "\n",
    "# Output\n",
    "print('a:')\n",
    "print(a)\n",
    "print('b:')\n",
    "print(b)\n",
    "print('out:')\n",
    "print(out)"
   ],
   "metadata": {
    "collapsed": false,
    "pycharm": {
     "name": "#%%\n"
    }
   }
  },
  {
   "cell_type": "code",
   "execution_count": 105,
   "outputs": [
    {
     "name": "stdout",
     "output_type": "stream",
     "text": [
      "a:\n",
      "[ 2  6  1  9 10  3 27]\n",
      "out:\n",
      "[ 6  9 10]\n"
     ]
    }
   ],
   "source": [
    "# 8 Get all items between 5 and 10 from a.\n",
    "\n",
    "# Input\n",
    "a = np.array([2, 6, 1, 9, 10, 3, 27])\n",
    "\n",
    "# Enter your code here\n",
    "out = a[np.where((a>=5) & (a <= 10))]\n",
    "\n",
    "# Output\n",
    "print('a:')\n",
    "print(a)\n",
    "print('out:')\n",
    "print(out)"
   ],
   "metadata": {
    "collapsed": false,
    "pycharm": {
     "name": "#%%\n"
    }
   }
  },
  {
   "cell_type": "code",
   "execution_count": 106,
   "outputs": [
    {
     "name": "stdout",
     "output_type": "stream",
     "text": [
      "a:\n",
      "[5 7 9 8 6 4 5]\n",
      "b:\n",
      "[6 3 4 8 9 7 1]\n",
      "out:\n",
      "[6 7 9 8 9 7 5]\n"
     ]
    }
   ],
   "source": [
    "# 9 Convert the function maxx that works on two scalars to work on two arrays.\n",
    "\n",
    "# Input\n",
    "def maxx(x, y):\n",
    "    \"\"\"Get the maximum of two items\"\"\"\n",
    "    return x if x >= y else y\n",
    "\n",
    "a = np.array([5, 7, 9, 8, 6, 4, 5])\n",
    "b = np.array([6, 3, 4, 8, 9, 7, 1])\n",
    "\n",
    "# Enter your code here\n",
    "vfunc = np.vectorize(maxx, otypes=[int])\n",
    "out = vfunc(a,b)\n",
    "\n",
    "# Output\n",
    "print('a:')\n",
    "print(a)\n",
    "print('b:')\n",
    "print(b)\n",
    "print('out:')\n",
    "print(out)"
   ],
   "metadata": {
    "collapsed": false,
    "pycharm": {
     "name": "#%%\n"
    }
   }
  },
  {
   "cell_type": "code",
   "execution_count": 107,
   "outputs": [
    {
     "name": "stdout",
     "output_type": "stream",
     "text": [
      "arr:\n",
      "[[0 1 2]\n",
      " [3 4 5]\n",
      " [6 7 8]]\n",
      "out:\n",
      "[[1 0 2]\n",
      " [4 3 5]\n",
      " [7 6 8]]\n"
     ]
    }
   ],
   "source": [
    "# 10 Swap columns 1 and 2 in the numpy.array.\n",
    "\n",
    "# Input\n",
    "arr = np.array([[0, 1, 2],\n",
    "                [3, 4, 5],\n",
    "                [6, 7, 8]])\n",
    "\n",
    "# Enter your code here\n",
    "out = arr[:, [1,0,2]]\n",
    "\n",
    "# Output\n",
    "print('arr:')\n",
    "print(arr)\n",
    "print('out:')\n",
    "print(out)"
   ],
   "metadata": {
    "collapsed": false,
    "pycharm": {
     "name": "#%%\n"
    }
   }
  },
  {
   "cell_type": "code",
   "execution_count": 108,
   "outputs": [
    {
     "name": "stdout",
     "output_type": "stream",
     "text": [
      "arr:\n",
      "[[3 4 5]\n",
      " [0 1 2]\n",
      " [6 7 8]]\n",
      "out:\n",
      "[[0 1 2]\n",
      " [3 4 5]\n",
      " [6 7 8]]\n"
     ]
    }
   ],
   "source": [
    "# 11 Swap rows 1 and 2 in the numpy array.\n",
    "\n",
    "# Input\n",
    "arr = np.array([[3, 4, 5],\n",
    "                [0, 1, 2],\n",
    "                [6, 7, 8]])\n",
    "\n",
    "# Enter your code here\n",
    "out = arr[[1,0,2], : ]\n",
    "\n",
    "# Output\n",
    "print('arr:')\n",
    "print(arr)\n",
    "print('out:')\n",
    "print(out)"
   ],
   "metadata": {
    "collapsed": false,
    "pycharm": {
     "name": "#%%\n"
    }
   }
  },
  {
   "cell_type": "code",
   "execution_count": 109,
   "outputs": [
    {
     "name": "stdout",
     "output_type": "stream",
     "text": [
      "arr:\n",
      "[[3 4 5]\n",
      " [0 1 2]\n",
      " [6 7 8]]\n",
      "out:\n",
      "[[6 7 8]\n",
      " [0 1 2]\n",
      " [3 4 5]]\n"
     ]
    }
   ],
   "source": [
    "# 12 Reverse the rows of a 2D array.\n",
    "\n",
    "# Input\n",
    "arr = np.array([[3, 4, 5],\n",
    "                [0, 1, 2],\n",
    "                [6, 7, 8]])\n",
    "\n",
    "# Enter your code here\n",
    "out = arr[::-1]\n",
    "\n",
    "# Output\n",
    "print('arr:')\n",
    "print(arr)\n",
    "print('out:')\n",
    "print(out)"
   ],
   "metadata": {
    "collapsed": false,
    "pycharm": {
     "name": "#%%\n"
    }
   }
  },
  {
   "cell_type": "code",
   "execution_count": 110,
   "outputs": [
    {
     "name": "stdout",
     "output_type": "stream",
     "text": [
      "arr:\n",
      "[[3 4 5]\n",
      " [0 1 2]\n",
      " [6 7 8]]\n",
      "out:\n",
      "[[5 4 3]\n",
      " [2 1 0]\n",
      " [8 7 6]]\n"
     ]
    }
   ],
   "source": [
    "# 13 Reverse the columns of a 2D array arr.\n",
    "\n",
    "# Input\n",
    "arr = np.array([[3, 4, 5],\n",
    "                [0, 1, 2],\n",
    "                [6, 7, 8]])\n",
    "\n",
    "# Enter your code here\n",
    "out = arr[:,::-1]\n",
    "\n",
    "# Output\n",
    "print('arr:')\n",
    "print(arr)\n",
    "print('out:')\n",
    "print(out)"
   ],
   "metadata": {
    "collapsed": false,
    "pycharm": {
     "name": "#%%\n"
    }
   }
  },
  {
   "cell_type": "code",
   "execution_count": 111,
   "outputs": [
    {
     "name": "stdout",
     "output_type": "stream",
     "text": [
      "[[5.35 8.18 8.12]\n",
      " [6.3  9.55 7.44]\n",
      " [8.07 7.71 5.36]\n",
      " [6.9  9.64 8.8 ]\n",
      " [9.76 8.72 5.17]]\n"
     ]
    }
   ],
   "source": [
    "# 14 Create a 2D array of shape 5x3 to contain random decimal numbers between 5 and 10.\n",
    "\n",
    "# Enter your code here\n",
    "rand_arr = np.random.uniform(5,10, size=(5,3))\n",
    "\n",
    "# Output\n",
    "print(rand_arr.round(2))"
   ],
   "metadata": {
    "collapsed": false,
    "pycharm": {
     "name": "#%%\n"
    }
   }
  },
  {
   "cell_type": "code",
   "execution_count": 112,
   "outputs": [
    {
     "name": "stdout",
     "output_type": "stream",
     "text": [
      "array:\n",
      "[[1 2 3 4 5]\n",
      " [1 2 3 4 5]\n",
      " [1 2 3 4 5]\n",
      " [1 2 3 4 5]]\n",
      "extracted:\n",
      "[5 5 5 5]\n"
     ]
    }
   ],
   "source": [
    "# 15 Given 2D array extract one column with specified index.\n",
    "\n",
    "# Input:\n",
    "arr = np.array([[1,2,3,4,5],\n",
    "                [1,2,3,4,5],\n",
    "                [1,2,3,4,5],\n",
    "                [1,2,3,4,5]])\n",
    "extract_column_idx = 4\n",
    "\n",
    "# Enter your code here\n",
    "extracted = arr[:,4]\n",
    "\n",
    "# Output:\n",
    "print('array:')\n",
    "print(arr)\n",
    "print('extracted:')\n",
    "print(extracted)"
   ],
   "metadata": {
    "collapsed": false,
    "pycharm": {
     "name": "#%%\n"
    }
   }
  },
  {
   "cell_type": "code",
   "execution_count": 113,
   "outputs": [
    {
     "name": "stdout",
     "output_type": "stream",
     "text": [
      "array:\n",
      "[[1 2 3 4 5]\n",
      " [1 2 3 4 5]\n",
      " [1 2 3 4 5]\n",
      " [1 2 3 4 5]]\n",
      "extracted:\n",
      "[5 5 5 5]\n"
     ]
    }
   ],
   "source": [
    "# 16 Given array of tuples extract column specified by given index.\n",
    "\n",
    "# Input:\n",
    "arr = np.array([(1,2,3,4,5),\n",
    "                (1,2,3,4,5),\n",
    "                (1,2,3,4,5),\n",
    "                (1,2,3,4,5)])\n",
    "\n",
    "# Enter your code here\n",
    "extracted = np.array([i[4] for i in arr])\n",
    "\n",
    "# Output:\n",
    "print('array:')\n",
    "print(arr)\n",
    "print('extracted:')\n",
    "print(extracted)"
   ],
   "metadata": {
    "collapsed": false,
    "pycharm": {
     "name": "#%%\n"
    }
   }
  },
  {
   "cell_type": "code",
   "execution_count": 114,
   "outputs": [
    {
     "name": "stdout",
     "output_type": "stream",
     "text": [
      "array:\n",
      "[ 1  2  3  4  5  6  7  8  9 10]\n",
      "normalized:\n",
      "[0.   0.11 0.22 0.33 0.44 0.56 0.67 0.78 0.89 1.  ]\n"
     ]
    }
   ],
   "source": [
    "# 17 normalize an array so the values range exactly between 0 and 1\n",
    "\n",
    "arr = np.array([1, 2, 3, 4, 5, 6, 7, 8, 9, 10])\n",
    "\n",
    "# Enter your code here\n",
    "arr_norm = (arr - arr.min())/(arr.max() - arr.min())\n",
    "\n",
    "# Output:\n",
    "print('array:')\n",
    "print(arr)\n",
    "print('normalized:')\n",
    "print(arr_norm.round(2))"
   ],
   "metadata": {
    "collapsed": false,
    "pycharm": {
     "name": "#%%\n"
    }
   }
  },
  {
   "cell_type": "code",
   "execution_count": 115,
   "outputs": [
    {
     "name": "stdout",
     "output_type": "stream",
     "text": [
      "BEFORE INSERT:\n",
      "[[1. 2. 3.]\n",
      " [1. 2. 3.]\n",
      " [1. 2. 3.]]\n",
      "AFTER INSERT:\n",
      "[[ 1. nan  3.]\n",
      " [nan  2.  3.]\n",
      " [ 1.  2.  3.]]\n"
     ]
    }
   ],
   "source": [
    "# 18 Insert np.nan values at 2 random positions in given array.\n",
    "\n",
    "matr = np.array([[1.,2.,3.],\n",
    "                 [1.,2.,3.],\n",
    "                 [1.,2.,3.]])\n",
    "print('BEFORE INSERT:')\n",
    "print(matr)\n",
    "\n",
    "# Enter your code here\n",
    "matr[np.random.randint(3, size= 2), np.random.randint(3,size=2)] = np.nan\n",
    "\n",
    "# Output\n",
    "print('AFTER INSERT:')\n",
    "print(matr)"
   ],
   "metadata": {
    "collapsed": false,
    "pycharm": {
     "name": "#%%\n"
    }
   }
  },
  {
   "cell_type": "code",
   "execution_count": 116,
   "outputs": [
    {
     "name": "stdout",
     "output_type": "stream",
     "text": [
      "input:\n",
      "[[nan  2.  3.]\n",
      " [ 1. nan  3.]\n",
      " [ 1.  2. nan]]\n",
      "Array is missing  3  values with indices:\n",
      "[[0 1 2]\n",
      " [0 1 2]]\n"
     ]
    }
   ],
   "source": [
    "# 19 Find the number and position of missing values in given 2D array.\n",
    "\n",
    "matr = np.array([[np.nan,     2.,    3. ],\n",
    "                 [    1., np.nan,    3. ],\n",
    "                 [     1.,    2., np.nan]])\n",
    "print('input:')\n",
    "print(matr)\n",
    "\n",
    "# Enter your code here\n",
    "n_mis = np.isnan(matr[:,:]).sum()\n",
    "idx_mis = np.where(np.isnan(matr[:,:]))\n",
    "\n",
    "# Output\n",
    "print(\"Array is missing \", n_mis, \" values with indices:\")\n",
    "print(np.array(idx_mis))"
   ],
   "metadata": {
    "collapsed": false,
    "pycharm": {
     "name": "#%%\n"
    }
   }
  },
  {
   "cell_type": "code",
   "execution_count": 117,
   "outputs": [
    {
     "name": "stdout",
     "output_type": "stream",
     "text": [
      "input:\n",
      "[[0 0 0 2 2]\n",
      " [0 2 1 2 2]\n",
      " [2 2 1 0 0]\n",
      " [0 0 2 0 1]\n",
      " [1 2 2 0 0]]\n",
      "Correlation between column  0  and column  3  is  -0.6123724356957946\n"
     ]
    }
   ],
   "source": [
    "# 20 Find the correlation between column x and column y of the given 2D array.\n",
    "\n",
    "matr = np.array([[0, 0, 0, 2, 2],\n",
    "                 [0, 2, 1, 2, 2],\n",
    "                 [2, 2, 1, 0, 0],\n",
    "                 [0, 0, 2, 0, 1],\n",
    "                 [1, 2, 2, 0, 0]])\n",
    "x = 0\n",
    "y = 3\n",
    "print('input:')\n",
    "print(matr)\n",
    "\n",
    "# Enter your code here\n",
    "corr = np.corrcoef(matr[:,x],matr[:,y])[1,0]\n",
    "\n",
    "# Output\n",
    "print('Correlation between column ', x, ' and column ', y, ' is ', corr)"
   ],
   "metadata": {
    "collapsed": false,
    "pycharm": {
     "name": "#%%\n"
    }
   }
  },
  {
   "cell_type": "code",
   "execution_count": 118,
   "outputs": [
    {
     "name": "stdout",
     "output_type": "stream",
     "text": [
      "[[ 1.  2.]\n",
      " [nan  4.]]\n",
      "found nans\n"
     ]
    }
   ],
   "source": [
    "# 21 Find out if given array has any missing values (i.e. np.nan are present).\n",
    "\n",
    "matr = np.array([[1.0,    2.0],\n",
    "                 [np.nan, 4.0]])\n",
    "print(matr)\n",
    "\n",
    "# Enter your code here\n",
    "flag = np.where( np.isnan)\n",
    "# flag = np.isnan(matr).any()\n",
    "\n",
    "# Output\n",
    "if flag:\n",
    "  print('found nans')\n",
    "else:\n",
    "  print('no nans were found')\n"
   ],
   "metadata": {
    "collapsed": false,
    "pycharm": {
     "name": "#%%\n"
    }
   }
  },
  {
   "cell_type": "code",
   "execution_count": 119,
   "outputs": [
    {
     "name": "stdout",
     "output_type": "stream",
     "text": [
      "INITIAL ARRAY:\n",
      "[[ 1.  2.]\n",
      " [nan  4.]]\n",
      "PROCESSED ARRAY:\n",
      "[[1. 2.]\n",
      " [0. 4.]]\n"
     ]
    }
   ],
   "source": [
    "# 22 Replace all occurrences of np.nan with 0 in 2D array\n",
    "\n",
    "matr = np.array([[1.0,    2.0],\n",
    "                 [np.nan, 4.0]])\n",
    "print('INITIAL ARRAY:')\n",
    "print(matr)\n",
    "\n",
    "# Enter your code here\n",
    "matr[np.isnan(matr)] = 0\n",
    "\n",
    "# Output\n",
    "print('PROCESSED ARRAY:')\n",
    "print(matr)"
   ],
   "metadata": {
    "collapsed": false,
    "pycharm": {
     "name": "#%%\n"
    }
   }
  },
  {
   "cell_type": "code",
   "execution_count": 120,
   "outputs": [
    {
     "name": "stdout",
     "output_type": "stream",
     "text": [
      "INITIAL ARRAY:\n",
      "[1 2 3 1 2 4]\n",
      "UNIQUE ELEMENTS:\n",
      "[1 2 3 4]\n",
      "THEIR COUNTS:\n",
      "[2 2 1 1]\n"
     ]
    }
   ],
   "source": [
    "# 23 Find the unique values and the count of unique values in given array.\n",
    "\n",
    "arr = np.array([1,2,3,1,2,4])\n",
    "print('INITIAL ARRAY:')\n",
    "print(arr)\n",
    "\n",
    "# Enter your code here\n",
    "uniques, counts = np.unique(arr, return_counts=True)\n",
    "\n",
    "# Output\n",
    "print('UNIQUE ELEMENTS:')\n",
    "print(uniques)\n",
    "print('THEIR COUNTS:')\n",
    "print(counts)"
   ],
   "metadata": {
    "collapsed": false,
    "pycharm": {
     "name": "#%%\n"
    }
   }
  },
  {
   "cell_type": "code",
   "execution_count": 121,
   "outputs": [
    {
     "data": {
      "text/plain": "               0      1     2      3       4      5       6\nHeights:     1.8    2.1   1.9    1.6     1.7   1.65    1.75\nLabels:   medium  alien  tall  short  medium  short  medium",
      "text/html": "<div>\n<style scoped>\n    .dataframe tbody tr th:only-of-type {\n        vertical-align: middle;\n    }\n\n    .dataframe tbody tr th {\n        vertical-align: top;\n    }\n\n    .dataframe thead th {\n        text-align: right;\n    }\n</style>\n<table border=\"1\" class=\"dataframe\">\n  <thead>\n    <tr style=\"text-align: right;\">\n      <th></th>\n      <th>0</th>\n      <th>1</th>\n      <th>2</th>\n      <th>3</th>\n      <th>4</th>\n      <th>5</th>\n      <th>6</th>\n    </tr>\n  </thead>\n  <tbody>\n    <tr>\n      <th>Heights:</th>\n      <td>1.8</td>\n      <td>2.1</td>\n      <td>1.9</td>\n      <td>1.6</td>\n      <td>1.7</td>\n      <td>1.65</td>\n      <td>1.75</td>\n    </tr>\n    <tr>\n      <th>Labels:</th>\n      <td>medium</td>\n      <td>alien</td>\n      <td>tall</td>\n      <td>short</td>\n      <td>medium</td>\n      <td>short</td>\n      <td>medium</td>\n    </tr>\n  </tbody>\n</table>\n</div>"
     },
     "execution_count": 121,
     "metadata": {},
     "output_type": "execute_result"
    }
   ],
   "source": [
    "# 24 convert a numeric to a categorical (text) array\n",
    "height_arr = np.array([1.80, 2.10, 1.90, 1.60, 1.70, 1.65, 1.75])\n",
    "bins = [0.0, 1.7, 1.85, 2.0]\n",
    "label_map = ['short', 'medium', 'tall', 'alien']\n",
    "\n",
    "# Enter your code here\n",
    "height_labels = [label_map[x-1] for x in np.digitize(height_arr, bins)]\n",
    "\n",
    "# Output\n",
    "# from google.colab import data_table\n",
    "import pandas as pd\n",
    "pd.DataFrame([height_arr, height_labels], index=['Heights:', 'Labels:'])"
   ],
   "metadata": {
    "collapsed": false,
    "pycharm": {
     "name": "#%%\n"
    }
   }
  },
  {
   "cell_type": "code",
   "execution_count": 122,
   "outputs": [
    {
     "name": "stdout",
     "output_type": "stream",
     "text": [
      "INITIAL ARRAY:\n",
      "[[5.7 4.3 9.8]\n",
      " [1.  2.  1.6]\n",
      " [6.5 2.5 4.6]]\n",
      "VOLUME ADDED:\n",
      "[[  5.7    4.3    9.8  240.2 ]\n",
      " [  1.     2.     1.6    3.2 ]\n",
      " [  6.5    2.5    4.6   74.75]]\n"
     ]
    }
   ],
   "source": [
    "# 25 An array that contains width, length, and height of parallelepipedal bars is given. Add one more column to the array that should contain volume of the appropriate bar.\n",
    "\n",
    "arr = np.array([[5.7, 4.3, 9.8],\n",
    "                [1.0, 2.0, 1.6],\n",
    "                [6.5, 2.5, 4.6]])\n",
    "print('INITIAL ARRAY:')\n",
    "print(arr)\n",
    "\n",
    "# Enter your code here\n",
    "volume = arr[:, 0] * arr[:, 1] * arr[:, 2]\n",
    "arr = np.column_stack([arr, volume[:, np.newaxis]])\n",
    "\n",
    "# Output\n",
    "print('VOLUME ADDED:')\n",
    "print(arr.round(2))"
   ],
   "metadata": {
    "collapsed": false,
    "pycharm": {
     "name": "#%%\n"
    }
   }
  },
  {
   "cell_type": "code",
   "execution_count": 123,
   "outputs": [
    {
     "name": "stdout",
     "output_type": "stream",
     "text": [
      "The second largest number of problems  Alice  has solved is  6.0\n"
     ]
    }
   ],
   "source": [
    "# 26  An array that contains student's name and number of solved problems is given. Find the second largest number of problems that Alice has solved.\n",
    "\n",
    "arr = np.array([['Alice', 7],\n",
    "                ['Bob',   1],\n",
    "                ['Alice', 3],\n",
    "                ['Alice', 2],\n",
    "                ['Alice', 5],\n",
    "                ['Bob',   9],\n",
    "                ['Bob',   1],\n",
    "                ['Alice', 6],\n",
    "                ['Bob',   6],\n",
    "                ['Alice', 3],\n",
    "                ['Alice', 1]])\n",
    "student = 'Alice'\n",
    "\n",
    "# from google.colab import data_table\n",
    "import pandas as pd\n",
    "# dt = data_table.DataTable(pd.DataFrame(arr.T, index=['Name', 'Problems solved']))\n",
    "# import IPython\n",
    "# display(IPython.display.HTML(dt._repr_html_()))\n",
    "\n",
    "# Enter your code here\n",
    "filtered = arr[arr[:, 0] == student, [1]].astype('float')\n",
    "result = np.unique(np.sort(filtered))[-2]\n",
    "# pd.DataFrame([arr[0][i] , arr[1][i]] for i in range(arr))\n",
    "# Output\n",
    "print('The second largest number of problems ', student, ' has solved is ', result)"
   ],
   "metadata": {
    "collapsed": false,
    "pycharm": {
     "name": "#%%\n"
    }
   }
  },
  {
   "cell_type": "code",
   "execution_count": 124,
   "outputs": [
    {
     "name": "stdout",
     "output_type": "stream",
     "text": [
      "input:\n",
      "[ 8  5  2  7  5  9  0  9  8  6  2  0  5  3 10  2  3  6  4  1]\n",
      "The first value higher than  8  occurs at  5 -th position\n"
     ]
    }
   ],
   "source": [
    "# 27  Find the position of the first occurrence of a value strictly greater than given threshold.\n",
    "\n",
    "arr = np.array([8, 5, 2, 7, 5, 9, 0, 9, 8, 6, 2, 0, 5, 3, 10, 2, 3, 6, 4, 1])\n",
    "threshold = 8\n",
    "print('input:')\n",
    "print(arr)\n",
    "\n",
    "# Enter your code here\n",
    "idx = np.argwhere(arr>threshold)[0][0]\n",
    "\n",
    "# Output\n",
    "print('The first value higher than ', threshold, ' occurs at ', idx, '-th position')"
   ],
   "metadata": {
    "collapsed": false,
    "pycharm": {
     "name": "#%%\n"
    }
   }
  },
  {
   "cell_type": "code",
   "execution_count": 125,
   "outputs": [
    {
     "name": "stdout",
     "output_type": "stream",
     "text": [
      "initial array\n",
      "[27.6 14.6 21.8 42.3  1.2  6.9 33.8 41.4  7.7 29.1 44.6 11.2 10.   6.3\n",
      " 11.7 48.9 40.7  9.4 41.  14.4]\n",
      "cutoff array\n",
      "[27.6 14.6 21.8 30.  10.  10.  30.  30.  10.  29.1 30.  11.2 10.  10.\n",
      " 11.7 30.  30.  10.  30.  14.4]\n"
     ]
    }
   ],
   "source": [
    "# 28 replace all values greater than a given value to a given cutoff?\n",
    "\n",
    "a = np.array([27.6, 14.6, 21.8, 42.3,  1.2,\n",
    "               6.9, 33.8, 41.4,  7.7,  29.1,\n",
    "              44.6, 11.2, 10.0,  6.3,  11.7,\n",
    "              48.9, 40.7,  9.4, 41.0 , 14.4])\n",
    "min_cut = 10\n",
    "max_cut = 30\n",
    "\n",
    "# Enter your code here\n",
    "new_a = np.clip(a, a_min=min_cut, a_max=max_cut)\n",
    "\n",
    "# Output\n",
    "print('initial array')\n",
    "print(a)\n",
    "print('cutoff array')\n",
    "print(new_a)"
   ],
   "metadata": {
    "collapsed": false,
    "pycharm": {
     "name": "#%%\n"
    }
   }
  },
  {
   "cell_type": "code",
   "execution_count": 126,
   "outputs": [
    {
     "name": "stdout",
     "output_type": "stream",
     "text": [
      "initial array\n",
      "[ 4 13  5  8 17 12 11 14 19  1  2  0  9  6 16 18  7  3 10 15]\n",
      "5 maximal value indices\n",
      "[19 14  4 15  8]\n"
     ]
    }
   ],
   "source": [
    "# 29 Get the positions of top 5 maximal values in a given array.\n",
    "\n",
    "a = np.array([4, 13, 5, 8, 17, 12, 11, 14, 19, 1, 2, 0, 9, 6, 16, 18, 7, 3, 10, 15])\n",
    "\n",
    "# Enter your code here\n",
    "idx = a.argsort()[-5:]\n",
    "# idx = np.argpartition(-a, 5)[:5]\n",
    "# Output\n",
    "print('initial array')\n",
    "print(a)\n",
    "print('5 maximal value indices')\n",
    "print(idx)"
   ],
   "metadata": {
    "collapsed": false,
    "pycharm": {
     "name": "#%%\n"
    }
   }
  },
  {
   "cell_type": "code",
   "execution_count": 127,
   "outputs": [
    {
     "name": "stdout",
     "output_type": "stream",
     "text": [
      "initial array\n",
      "[ 9  4 15  0 17 16 17  8  9  0]\n",
      "ranks\n",
      "[4 2 6 0 8 7 9 3 5 1]\n"
     ]
    }
   ],
   "source": [
    "# 30 Create ranks for the given numeric array.\n",
    "\n",
    "a = np.array([9, 4, 15, 0, 17, 16, 17, 8, 9, 0])\n",
    "\n",
    "# Enter your code here\n",
    "rank = a.argsort().argsort()\n",
    "\n",
    "# Output\n",
    "print('initial array')\n",
    "print(a)\n",
    "print('ranks')\n",
    "print(rank)"
   ],
   "metadata": {
    "collapsed": false,
    "pycharm": {
     "name": "#%%\n"
    }
   }
  },
  {
   "cell_type": "code",
   "execution_count": 128,
   "outputs": [
    {
     "name": "stdout",
     "output_type": "stream",
     "text": [
      "initial array\n",
      "[[9 9 4]\n",
      " [8 8 1]\n",
      " [5 3 6]]\n",
      "maximas\n",
      "[9 8 6]\n"
     ]
    }
   ],
   "source": [
    "# 31 Compute the maximum for each row of the given array.\n",
    "\n",
    "# Input\n",
    "a = np.array([[9, 9, 4],\n",
    "              [8, 8, 1],\n",
    "              [5, 3, 6]])\n",
    "\n",
    "# Enter your code here\n",
    "maximas = np.amax(a,axis=1)\n",
    "\n",
    "# Output\n",
    "print('initial array')\n",
    "print(a)\n",
    "print('maximas')\n",
    "print(maximas)"
   ],
   "metadata": {
    "collapsed": false,
    "pycharm": {
     "name": "#%%\n"
    }
   }
  },
  {
   "cell_type": "code",
   "execution_count": 129,
   "outputs": [
    {
     "name": "stdout",
     "output_type": "stream",
     "text": [
      "initial array\n",
      "[ 1.  2.  3. nan  5.  6.  7. nan]\n",
      "nans dropped\n",
      "[1. 2. 3. 5. 6. 7.]\n"
     ]
    }
   ],
   "source": [
    "# 32 Drop all nan values from a 1D numpy array.\n",
    "\n",
    "# Input\n",
    "a = np.array([1,2,3,np.nan,5,6,7,np.nan])\n",
    "\n",
    "# Enter your code here\n",
    "after_drop = a[~np.isnan(a)]\n",
    "\n",
    "# Output\n",
    "print('initial array')\n",
    "print(a)\n",
    "print('nans dropped')\n",
    "print(after_drop)"
   ],
   "metadata": {
    "collapsed": false,
    "pycharm": {
     "name": "#%%\n"
    }
   }
  },
  {
   "cell_type": "code",
   "execution_count": 130,
   "outputs": [
    {
     "name": "stdout",
     "output_type": "stream",
     "text": [
      "from\n",
      "[[3 3 3]\n",
      " [4 4 4]\n",
      " [5 5 5]]\n",
      "subtract\n",
      "[1 2 3]\n",
      "result\n",
      "[[2 2 2]\n",
      " [2 2 2]\n",
      " [2 2 2]]\n"
     ]
    }
   ],
   "source": [
    "# 33 Subtract the 1d array from the 2d array. Each item of b_1d should be subtracted from respective row of a_2d.\n",
    "\n",
    "# Input\n",
    "a_2d = np.array([[3,3,3],[4,4,4],[5,5,5]])\n",
    "b_1d = np.array([1,2,3])\n",
    "\n",
    "# Enter your code here\n",
    "result = a_2d - b_1d[:,None]\n",
    "\n",
    "# Output\n",
    "print('from')\n",
    "print(a_2d)\n",
    "print('subtract')\n",
    "print(b_1d)\n",
    "print('result')\n",
    "print(result)"
   ],
   "metadata": {
    "collapsed": false,
    "pycharm": {
     "name": "#%%\n"
    }
   }
  },
  {
   "cell_type": "code",
   "execution_count": 131,
   "outputs": [
    {
     "name": "stdout",
     "output_type": "stream",
     "text": [
      "initial array\n",
      "[1 2 1 1 3 4 3 1 1 2 1 1 2]\n",
      "index of the  5 -th repetition of 1 is  8\n"
     ]
    }
   ],
   "source": [
    "# 34 Find the index of 5th repetition of number 1 in x.\n",
    "\n",
    "# Input:\n",
    "x = np.array([1, 2, 1, 1, 3, 4, 3, 1, 1, 2, 1, 1, 2])\n",
    "n = 5\n",
    "\n",
    "# Enter your code here\n",
    "# idx = [i for i, v in enumerate(x) if v == 1][n-1]\n",
    "\n",
    "idx = np.where(x==1)[0][n-1]\n",
    "\n",
    "print('initial array')\n",
    "print(x)\n",
    "print('index of the ', n, '-th repetition of 1 is ', idx)"
   ],
   "metadata": {
    "collapsed": false,
    "pycharm": {
     "name": "#%%\n"
    }
   }
  },
  {
   "cell_type": "code",
   "execution_count": 132,
   "outputs": [
    {
     "name": "stdout",
     "output_type": "stream",
     "text": [
      "[ 5  8 11 14 17 20 23 26 29 32]\n"
     ]
    }
   ],
   "source": [
    "# 35 Create a numpy array of given length that starts with given number and has a given step between consecutive numbers.\n",
    "# Input\n",
    "length = 10\n",
    "start  = 5\n",
    "step   = 3\n",
    "\n",
    "# Enter your code here\n",
    "arr = np.arange(start,start + step* length, step)\n",
    "\n",
    "# Output\n",
    "print(arr)\n"
   ],
   "metadata": {
    "collapsed": false,
    "pycharm": {
     "name": "#%%\n"
    }
   }
  }
 ],
 "metadata": {
  "kernelspec": {
   "display_name": "Python 3",
   "language": "python",
   "name": "python3"
  },
  "language_info": {
   "codemirror_mode": {
    "name": "ipython",
    "version": 3
   },
   "file_extension": ".py",
   "mimetype": "text/x-python",
   "name": "python",
   "nbconvert_exporter": "python",
   "pygments_lexer": "ipython3",
   "version": "3.8.5"
  }
 },
 "nbformat": 4,
 "nbformat_minor": 1
}